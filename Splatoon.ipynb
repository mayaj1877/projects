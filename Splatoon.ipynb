{
 "cells": [
  {
   "cell_type": "markdown",
   "id": "77cc7aa5",
   "metadata": {},
   "source": [
    "# Analysis and Hypothesis Testing for \"Splatoon 2\" and \"Splatoon 3\""
   ]
  },
  {
   "cell_type": "code",
   "execution_count": 244,
   "id": "996f6dbd-6174-40b9-b283-9b83175daf93",
   "metadata": {},
   "outputs": [],
   "source": [
    "import numpy as np\n",
    "import pandas as pd\n",
    "import seaborn as sns\n",
    "from datetime import timedelta\n",
    "import matplotlib\n",
    "%matplotlib inline\n",
    "import matplotlib.pyplot as plots\n",
    "import math"
   ]
  },
  {
   "cell_type": "markdown",
   "id": "b0d8c1bb-2d77-463c-b88a-6fd14bab640e",
   "metadata": {},
   "source": [
    "#### In this notebook, I will answer the question \"Is my killrate higher for matches that I win?\" using data about my Splatoon gameplay that I entered manually from the SplatNet apps. "
   ]
  },
  {
   "cell_type": "code",
   "execution_count": 245,
   "id": "81713874-e8d8-455a-9e28-4e3ffdc8140e",
   "metadata": {},
   "outputs": [
    {
     "data": {
      "text/plain": [
       "Index(['Mode', 'Notes', 'Overall XP', 'Rank (XP)', 'Kills (w/o assist)',\n",
       "       'Kills (w/ assist)', 'Deaths', 'Specials', 'Team Splashdowns',\n",
       "       'Opponent Splashdowns', 'Team Hensei', 'Opponent Hensei',\n",
       "       'Team Member 1 Kills (w/o assist)', 'Team Member 2 Kills (w/o assist)',\n",
       "       'Team Member 3 Kills (w/o assist)',\n",
       "       'Team Member Avg Kills (w/o assist)', 'Team Member 1 Kills (w/ assist)',\n",
       "       'Team Member 2 Kills (w/ assist)', 'Team Member 3 Kills (w/ assist)',\n",
       "       'Team Member Avg Kills (w/ assist)', 'Opponent 1 Kills (w/o assist)',\n",
       "       'Opponent 2 Kills (w/o assist)', 'Opponent 3 Kills (w/o assist)',\n",
       "       'Opponent 4 Kills (w/o assist)', 'Average Opponent Kills (w/o assist)',\n",
       "       'Opponent 1 Kills (w/ assist)', 'Opponent 2 Kills (w/ assist)',\n",
       "       'Opponent 3 Kills (w/ assist)', 'Opponent 4 Kills (w/ assist)',\n",
       "       'Opponent Avg Kills (w/ assist)', 'Team Member 1 Deaths',\n",
       "       'Team Member 2 Deaths', 'Team Member 3 Deaths',\n",
       "       'Team Member Avg Deaths', 'Opponent 1 Deaths', 'Opponent 2 Deaths',\n",
       "       'Opponent 3 Deaths', 'Opponent 4 Deaths', 'Opponent Avg Deaths',\n",
       "       'Team Count', 'Opponent Count', 'Close Match?', 'Knockout?', 'Won?',\n",
       "       'Unnamed: 44'],\n",
       "      dtype='object')"
      ]
     },
     "execution_count": 245,
     "metadata": {},
     "output_type": "execute_result"
    }
   ],
   "source": [
    "splatoon = pd.read_csv('New_Splatoon2.csv')\n",
    "splatoon.columns"
   ]
  },
  {
   "cell_type": "code",
   "execution_count": 246,
   "id": "3557ac7c-fb72-4f42-b78b-b79cabe4d36f",
   "metadata": {},
   "outputs": [
    {
     "data": {
      "text/plain": [
       "55.319148936170215"
      ]
     },
     "execution_count": 246,
     "metadata": {},
     "output_type": "execute_result"
    }
   ],
   "source": [
    "#Win Rate\n",
    "100*(len(splatoon[splatoon[\"Won?\"]==True])/splatoon.shape[0])"
   ]
  },
  {
   "cell_type": "code",
   "execution_count": 258,
   "id": "c50d511f",
   "metadata": {},
   "outputs": [
    {
     "data": {
      "text/html": [
       "<div>\n",
       "<style scoped>\n",
       "    .dataframe tbody tr th:only-of-type {\n",
       "        vertical-align: middle;\n",
       "    }\n",
       "\n",
       "    .dataframe tbody tr th {\n",
       "        vertical-align: top;\n",
       "    }\n",
       "\n",
       "    .dataframe thead th {\n",
       "        text-align: right;\n",
       "    }\n",
       "</style>\n",
       "<table border=\"1\" class=\"dataframe\">\n",
       "  <thead>\n",
       "    <tr style=\"text-align: right;\">\n",
       "      <th></th>\n",
       "      <th>Kills (w/ assist)</th>\n",
       "      <th>Deaths</th>\n",
       "      <th>Team Member 1 Kills (w/ assist)</th>\n",
       "      <th>Team Member 2 Kills (w/ assist)</th>\n",
       "      <th>Team Member 3 Kills (w/ assist)</th>\n",
       "      <th>Team Member Avg Kills (w/ assist)</th>\n",
       "      <th>Team Count</th>\n",
       "      <th>Opponent Count</th>\n",
       "      <th>Won?</th>\n",
       "      <th>my_win_killrate</th>\n",
       "      <th>my_lose_killrate</th>\n",
       "    </tr>\n",
       "  </thead>\n",
       "  <tbody>\n",
       "    <tr>\n",
       "      <th>0</th>\n",
       "      <td>9</td>\n",
       "      <td>10</td>\n",
       "      <td>5</td>\n",
       "      <td>8</td>\n",
       "      <td>13</td>\n",
       "      <td>8.666667</td>\n",
       "      <td>39</td>\n",
       "      <td>66</td>\n",
       "      <td>False</td>\n",
       "      <td>NaN</td>\n",
       "      <td>0.9</td>\n",
       "    </tr>\n",
       "    <tr>\n",
       "      <th>1</th>\n",
       "      <td>12</td>\n",
       "      <td>7</td>\n",
       "      <td>6</td>\n",
       "      <td>16</td>\n",
       "      <td>6</td>\n",
       "      <td>9.333333</td>\n",
       "      <td>93</td>\n",
       "      <td>0</td>\n",
       "      <td>True</td>\n",
       "      <td>1.714286</td>\n",
       "      <td>NaN</td>\n",
       "    </tr>\n",
       "    <tr>\n",
       "      <th>2</th>\n",
       "      <td>7</td>\n",
       "      <td>8</td>\n",
       "      <td>10</td>\n",
       "      <td>15</td>\n",
       "      <td>5</td>\n",
       "      <td>10.000000</td>\n",
       "      <td>99</td>\n",
       "      <td>13</td>\n",
       "      <td>True</td>\n",
       "      <td>0.875000</td>\n",
       "      <td>NaN</td>\n",
       "    </tr>\n",
       "    <tr>\n",
       "      <th>3</th>\n",
       "      <td>14</td>\n",
       "      <td>7</td>\n",
       "      <td>13</td>\n",
       "      <td>8</td>\n",
       "      <td>8</td>\n",
       "      <td>9.666667</td>\n",
       "      <td>94</td>\n",
       "      <td>28</td>\n",
       "      <td>True</td>\n",
       "      <td>2.000000</td>\n",
       "      <td>NaN</td>\n",
       "    </tr>\n",
       "    <tr>\n",
       "      <th>4</th>\n",
       "      <td>15</td>\n",
       "      <td>7</td>\n",
       "      <td>8</td>\n",
       "      <td>9</td>\n",
       "      <td>8</td>\n",
       "      <td>8.333333</td>\n",
       "      <td>55</td>\n",
       "      <td>45</td>\n",
       "      <td>True</td>\n",
       "      <td>2.142857</td>\n",
       "      <td>NaN</td>\n",
       "    </tr>\n",
       "  </tbody>\n",
       "</table>\n",
       "</div>"
      ],
      "text/plain": [
       "   Kills (w/ assist)  Deaths  Team Member 1 Kills (w/ assist)  \\\n",
       "0                  9      10                                5   \n",
       "1                 12       7                                6   \n",
       "2                  7       8                               10   \n",
       "3                 14       7                               13   \n",
       "4                 15       7                                8   \n",
       "\n",
       "   Team Member 2 Kills (w/ assist)  Team Member 3 Kills (w/ assist)  \\\n",
       "0                                8                               13   \n",
       "1                               16                                6   \n",
       "2                               15                                5   \n",
       "3                                8                                8   \n",
       "4                                9                                8   \n",
       "\n",
       "   Team Member Avg Kills (w/ assist)  Team Count  Opponent Count   Won?  \\\n",
       "0                           8.666667          39              66  False   \n",
       "1                           9.333333          93               0   True   \n",
       "2                          10.000000          99              13   True   \n",
       "3                           9.666667          94              28   True   \n",
       "4                           8.333333          55              45   True   \n",
       "\n",
       "   my_win_killrate  my_lose_killrate  \n",
       "0              NaN               0.9  \n",
       "1         1.714286               NaN  \n",
       "2         0.875000               NaN  \n",
       "3         2.000000               NaN  \n",
       "4         2.142857               NaN  "
      ]
     },
     "execution_count": 258,
     "metadata": {},
     "output_type": "execute_result"
    }
   ],
   "source": [
    "splatoon2 = splatoon.loc[:, [\"Kills (w/ assist)\", \"Deaths\", \"Team Member 1 Kills (w/ assist)\",\"Team Member 2 Kills (w/ assist)\", \"Team Member 3 Kills (w/ assist)\", \"Team Member Avg Kills (w/ assist)\", \"Team Count\", \"Opponent Count\", \"Won?\"]]\n",
    "#Calculate kill rate for wins vs kill rate for losses\n",
    "splatoon2.sort_values(\"Won?\", ascending=False).head(5)\n",
    "wins = splatoon2.copy()[splatoon2[\"Won?\"]==True]\n",
    "losses = splatoon2.copy()[splatoon2[\"Won?\"]==False]\n",
    "win_killrate = wins[\"Kills (w/ assist)\"] / wins[\"Deaths\"]\n",
    "loss_killrate = losses[\"Kills (w/ assist)\"] / losses[\"Deaths\"]\n",
    "\n",
    "splatoon2[\"my_win_killrate\"] = win_killrate\n",
    "splatoon2[\"my_lose_killrate\"] = loss_killrate\n",
    "\n",
    "splatoon2.head(5)"
   ]
  },
  {
   "cell_type": "markdown",
   "id": "b16066b4-8e53-4879-a169-d48872fc92dd",
   "metadata": {},
   "source": [
    "Using bootstrap method for A/B testing\n",
    "\n",
    "Question: Could the difference in killrates for games where I won and lost be due to chance?\n",
    "\n",
    "Null hypothesis: The distributions of the win killrates are the same as the distributions of the loss killrates, and they are different in the sample due to chance.\n",
    "\n",
    "Alternate hypothesis: Win killrates in games of splatoon are higher than loss killrates.\n",
    "\n",
    "Test statistic: abs(median of wins - median of losses). If the distributions are the same, the test statistic should be 0."
   ]
  },
  {
   "cell_type": "code",
   "execution_count": 248,
   "id": "e32a1ed7-9b45-43d7-8d35-618ff8b923c3",
   "metadata": {},
   "outputs": [
    {
     "data": {
      "text/plain": [
       "<matplotlib.legend.Legend at 0x7fc5703499d0>"
      ]
     },
     "execution_count": 248,
     "metadata": {},
     "output_type": "execute_result"
    },
    {
     "data": {
      "image/png": "[encoded data removed]",
      "text/plain": [
       "<Figure size 640x480 with 1 Axes>"
      ]
     },
     "metadata": {},
     "output_type": "display_data"
    }
   ],
   "source": [
    "splatoon2[[\"my_win_killrate\", \"my_lose_killrate\"]]\n",
    "ax = sns.histplot(data=splatoon2, x=\"my_win_killrate\")\n",
    "ax = sns.histplot(data=splatoon2, x=\"my_lose_killrate\", color=\"r\")\n",
    "ax.set_xlabel(\"Killrates\")\n",
    "ax.legend(labels=[\"wins\",\"losses\"])"
   ]
  },
  {
   "cell_type": "markdown",
   "id": "8a4f5d0f-f5ab-444a-bbb9-4ba3867a3301",
   "metadata": {},
   "source": [
    "A/B testing by shuffling the labels"
   ]
  },
  {
   "cell_type": "code",
   "execution_count": 249,
   "id": "f12a6a6c-c465-4036-b8c2-3802eea360d7",
   "metadata": {},
   "outputs": [
    {
     "data": {
      "text/html": [
       "<div>\n",
       "<style scoped>\n",
       "    .dataframe tbody tr th:only-of-type {\n",
       "        vertical-align: middle;\n",
       "    }\n",
       "\n",
       "    .dataframe tbody tr th {\n",
       "        vertical-align: top;\n",
       "    }\n",
       "\n",
       "    .dataframe thead th {\n",
       "        text-align: right;\n",
       "    }\n",
       "</style>\n",
       "<table border=\"1\" class=\"dataframe\">\n",
       "  <thead>\n",
       "    <tr style=\"text-align: right;\">\n",
       "      <th></th>\n",
       "      <th>my_kr</th>\n",
       "      <th>Won?</th>\n",
       "    </tr>\n",
       "  </thead>\n",
       "  <tbody>\n",
       "    <tr>\n",
       "      <th>0</th>\n",
       "      <td>0.900000</td>\n",
       "      <td>False</td>\n",
       "    </tr>\n",
       "    <tr>\n",
       "      <th>1</th>\n",
       "      <td>1.714286</td>\n",
       "      <td>True</td>\n",
       "    </tr>\n",
       "    <tr>\n",
       "      <th>2</th>\n",
       "      <td>0.875000</td>\n",
       "      <td>True</td>\n",
       "    </tr>\n",
       "    <tr>\n",
       "      <th>3</th>\n",
       "      <td>2.000000</td>\n",
       "      <td>True</td>\n",
       "    </tr>\n",
       "    <tr>\n",
       "      <th>4</th>\n",
       "      <td>2.142857</td>\n",
       "      <td>True</td>\n",
       "    </tr>\n",
       "  </tbody>\n",
       "</table>\n",
       "</div>"
      ],
      "text/plain": [
       "      my_kr   Won?\n",
       "0  0.900000  False\n",
       "1  1.714286   True\n",
       "2  0.875000   True\n",
       "3  2.000000   True\n",
       "4  2.142857   True"
      ]
     },
     "execution_count": 249,
     "metadata": {},
     "output_type": "execute_result"
    }
   ],
   "source": [
    "splatoon2[\"my_kr\"] = splatoon2[\"Kills (w/ assist)\"] / splatoon2[\"Deaths\"]\n",
    "a_b_krs = splatoon2[[\"my_kr\", \"Won?\"]]\n",
    "a_b_krs.head(5)"
   ]
  },
  {
   "cell_type": "code",
   "execution_count": 250,
   "id": "5ac10afc-71f6-4748-8bf2-3991b087cace",
   "metadata": {},
   "outputs": [
    {
     "data": {
      "text/plain": [
       "0.6607142857142856"
      ]
     },
     "execution_count": 250,
     "metadata": {},
     "output_type": "execute_result"
    }
   ],
   "source": [
    "#Find the observed difference\n",
    "#grouped = a_b_krs.groupby(\"Won?\").agg(np.average).sort_values(\"Won?\", ascending=False)\n",
    "#grouped[\"my_kr\"].values[0] - grouped[\"my_kr\"].values[1]\n",
    "observed_difference = np.median(a_b_krs[a_b_krs[\"Won?\"]==True][\"my_kr\"].values) - np.median(a_b_krs[a_b_krs[\"Won?\"]==False][\"my_kr\"].values)\n",
    "observed_difference"
   ]
  },
  {
   "cell_type": "code",
   "execution_count": 251,
   "id": "3ee76b1b",
   "metadata": {},
   "outputs": [
    {
     "data": {
      "text/plain": [
       "array([0.11111111, 0.125     , 0.23611111, 0.22222222, 0.23611111])"
      ]
     },
     "execution_count": 251,
     "metadata": {},
     "output_type": "execute_result"
    }
   ],
   "source": [
    "def one_stat(tbl, label):\n",
    "    \"\"\"Calculates absolute difference between win and loss\"\"\"\n",
    "    grouped = shuffled_tbl.groupby(\"Won2\").agg(np.median).reset_index()\n",
    "    return abs(grouped[\"my_kr\"].values[0] - grouped[\"my_kr\"].values[1])\n",
    "\n",
    "all_diffs = np.array([])\n",
    "\n",
    "for i in np.arange(1000):\n",
    "    conditions = a_b_krs.sample(n=len(a_b_krs), replace=False)[\"Won?\"].values\n",
    "    shuffled_tbl = a_b_krs.drop(columns=[\"Won?\"]) #.insert(1, column=\"Won2\", value = conditions)\n",
    "    shuffled_tbl[\"Won2\"] = conditions\n",
    "    all_diffs = np.append(all_diffs, one_stat(shuffled_tbl, \"Won2\"))\n",
    "\n",
    "all_diffs[:5]"
   ]
  },
  {
   "cell_type": "code",
   "execution_count": 252,
   "id": "c8e9c044",
   "metadata": {},
   "outputs": [
    {
     "data": {
      "text/plain": [
       "<AxesSubplot:xlabel='All Differences', ylabel='Count'>"
      ]
     },
     "execution_count": 252,
     "metadata": {},
     "output_type": "execute_result"
    },
    {
     "data": {
      "image/png": "[encoded data removed]",
      "text/plain": [
       "<Figure size 640x480 with 1 Axes>"
      ]
     },
     "metadata": {},
     "output_type": "display_data"
    }
   ],
   "source": [
    "new = pd.DataFrame()\n",
    "new[\"All Differences\"] = all_diffs\n",
    "sns.histplot(data=new, x=\"All Differences\")"
   ]
  },
  {
   "cell_type": "code",
   "execution_count": 253,
   "id": "2748a536-ab73-4b5a-89d2-2d0379562ffb",
   "metadata": {},
   "outputs": [
    {
     "data": {
      "text/plain": [
       "0.0"
      ]
     },
     "execution_count": 253,
     "metadata": {},
     "output_type": "execute_result"
    }
   ],
   "source": [
    "p_value = np.count_nonzero(differences>=observed_difference)/1000\n",
    "p_value"
   ]
  },
  {
   "cell_type": "markdown",
   "id": "b8da5544-e57e-4757-8855-d5f6e112d6d1",
   "metadata": {},
   "source": [
    "Since the p_value is 0: reject the null hypothesis; therefore, win killrates in games of splatoon are higher than loss killrates."
   ]
  },
  {
   "cell_type": "markdown",
   "id": "b3c8faac",
   "metadata": {},
   "source": [
    "##### NOTE: #####\n",
    "This hypothesis test is not that useful since there isn't enough data (there are only 100 rows) since I am manually entering data from the SplatNet apps. Once I take a higher level CS/DS course and learn how to set up a scraper, I can automate data mining and add to the csv every time I play a match, resulting in more accurate results."
   ]
  },
  {
   "cell_type": "markdown",
   "id": "ff11c7e7",
   "metadata": {},
   "source": [
    "## Misc: EDA -- is there an association between how many kills we get and how many points we score?"
   ]
  },
  {
   "cell_type": "code",
   "execution_count": 254,
   "id": "e61c0924",
   "metadata": {},
   "outputs": [
    {
     "data": {
      "text/html": [
       "<div>\n",
       "<style scoped>\n",
       "    .dataframe tbody tr th:only-of-type {\n",
       "        vertical-align: middle;\n",
       "    }\n",
       "\n",
       "    .dataframe tbody tr th {\n",
       "        vertical-align: top;\n",
       "    }\n",
       "\n",
       "    .dataframe thead th {\n",
       "        text-align: right;\n",
       "    }\n",
       "</style>\n",
       "<table border=\"1\" class=\"dataframe\">\n",
       "  <thead>\n",
       "    <tr style=\"text-align: right;\">\n",
       "      <th></th>\n",
       "      <th>Mode</th>\n",
       "      <th>Time</th>\n",
       "      <th>Kills (w/assist)</th>\n",
       "      <th>Deaths</th>\n",
       "      <th>Team Kill 1</th>\n",
       "      <th>Team Kill 2</th>\n",
       "      <th>Team Kill 3</th>\n",
       "      <th>Team Count</th>\n",
       "      <th>Enemy Count</th>\n",
       "      <th>Won?</th>\n",
       "      <th>Unnamed: 10</th>\n",
       "    </tr>\n",
       "  </thead>\n",
       "  <tbody>\n",
       "    <tr>\n",
       "      <th>0</th>\n",
       "      <td>Tower Control</td>\n",
       "      <td>2:30</td>\n",
       "      <td>4</td>\n",
       "      <td>3</td>\n",
       "      <td>12</td>\n",
       "      <td>12</td>\n",
       "      <td>3</td>\n",
       "      <td>100</td>\n",
       "      <td>0</td>\n",
       "      <td>True</td>\n",
       "      <td>NaN</td>\n",
       "    </tr>\n",
       "    <tr>\n",
       "      <th>1</th>\n",
       "      <td>Tower Control</td>\n",
       "      <td>5:17</td>\n",
       "      <td>11</td>\n",
       "      <td>12</td>\n",
       "      <td>14</td>\n",
       "      <td>7</td>\n",
       "      <td>7</td>\n",
       "      <td>78</td>\n",
       "      <td>98</td>\n",
       "      <td>False</td>\n",
       "      <td>NaN</td>\n",
       "    </tr>\n",
       "    <tr>\n",
       "      <th>2</th>\n",
       "      <td>Tower Control</td>\n",
       "      <td>5:23</td>\n",
       "      <td>13</td>\n",
       "      <td>8</td>\n",
       "      <td>14</td>\n",
       "      <td>14</td>\n",
       "      <td>7</td>\n",
       "      <td>88</td>\n",
       "      <td>31</td>\n",
       "      <td>True</td>\n",
       "      <td>NaN</td>\n",
       "    </tr>\n",
       "    <tr>\n",
       "      <th>3</th>\n",
       "      <td>Tower Control</td>\n",
       "      <td>5:24</td>\n",
       "      <td>7</td>\n",
       "      <td>9</td>\n",
       "      <td>16</td>\n",
       "      <td>13</td>\n",
       "      <td>7</td>\n",
       "      <td>80</td>\n",
       "      <td>92</td>\n",
       "      <td>False</td>\n",
       "      <td>NaN</td>\n",
       "    </tr>\n",
       "    <tr>\n",
       "      <th>4</th>\n",
       "      <td>Tower Control</td>\n",
       "      <td>2:44</td>\n",
       "      <td>8</td>\n",
       "      <td>2</td>\n",
       "      <td>4</td>\n",
       "      <td>4</td>\n",
       "      <td>4</td>\n",
       "      <td>100</td>\n",
       "      <td>0</td>\n",
       "      <td>True</td>\n",
       "      <td>NaN</td>\n",
       "    </tr>\n",
       "  </tbody>\n",
       "</table>\n",
       "</div>"
      ],
      "text/plain": [
       "            Mode  Time  Kills (w/assist)  Deaths  Team Kill 1  Team Kill 2  \\\n",
       "0  Tower Control  2:30                 4       3           12           12   \n",
       "1  Tower Control  5:17                11      12           14            7   \n",
       "2  Tower Control  5:23                13       8           14           14   \n",
       "3  Tower Control  5:24                 7       9           16           13   \n",
       "4  Tower Control  2:44                 8       2            4            4   \n",
       "\n",
       "   Team Kill 3  Team Count   Enemy Count   Won?  Unnamed: 10  \n",
       "0            3          100            0   True          NaN  \n",
       "1            7           78           98  False          NaN  \n",
       "2            7           88           31   True          NaN  \n",
       "3            7           80           92  False          NaN  \n",
       "4            4          100            0   True          NaN  "
      ]
     },
     "execution_count": 254,
     "metadata": {},
     "output_type": "execute_result"
    }
   ],
   "source": [
    "splatoon3 = pd.read_csv(\"Splatoon3.csv\")\n",
    "splatoon3.head()"
   ]
  },
  {
   "cell_type": "code",
   "execution_count": 255,
   "id": "ed05172c",
   "metadata": {},
   "outputs": [
    {
     "data": {
      "text/html": [
       "<div>\n",
       "<style scoped>\n",
       "    .dataframe tbody tr th:only-of-type {\n",
       "        vertical-align: middle;\n",
       "    }\n",
       "\n",
       "    .dataframe tbody tr th {\n",
       "        vertical-align: top;\n",
       "    }\n",
       "\n",
       "    .dataframe thead th {\n",
       "        text-align: right;\n",
       "    }\n",
       "</style>\n",
       "<table border=\"1\" class=\"dataframe\">\n",
       "  <thead>\n",
       "    <tr style=\"text-align: right;\">\n",
       "      <th></th>\n",
       "      <th>Mode</th>\n",
       "      <th>Time</th>\n",
       "      <th>Kills (w/assist)</th>\n",
       "      <th>Deaths</th>\n",
       "      <th>Team Kill 1</th>\n",
       "      <th>Team Kill 2</th>\n",
       "      <th>Team Kill 3</th>\n",
       "      <th>Team Count</th>\n",
       "      <th>Enemy Count</th>\n",
       "      <th>Won?</th>\n",
       "      <th>Unnamed: 10</th>\n",
       "      <th>Seconds</th>\n",
       "    </tr>\n",
       "  </thead>\n",
       "  <tbody>\n",
       "    <tr>\n",
       "      <th>0</th>\n",
       "      <td>Tower Control</td>\n",
       "      <td>2:30</td>\n",
       "      <td>4</td>\n",
       "      <td>3</td>\n",
       "      <td>12</td>\n",
       "      <td>12</td>\n",
       "      <td>3</td>\n",
       "      <td>100</td>\n",
       "      <td>0</td>\n",
       "      <td>True</td>\n",
       "      <td>NaN</td>\n",
       "      <td>150.0</td>\n",
       "    </tr>\n",
       "    <tr>\n",
       "      <th>1</th>\n",
       "      <td>Tower Control</td>\n",
       "      <td>5:17</td>\n",
       "      <td>11</td>\n",
       "      <td>12</td>\n",
       "      <td>14</td>\n",
       "      <td>7</td>\n",
       "      <td>7</td>\n",
       "      <td>78</td>\n",
       "      <td>98</td>\n",
       "      <td>False</td>\n",
       "      <td>NaN</td>\n",
       "      <td>317.0</td>\n",
       "    </tr>\n",
       "    <tr>\n",
       "      <th>2</th>\n",
       "      <td>Tower Control</td>\n",
       "      <td>5:23</td>\n",
       "      <td>13</td>\n",
       "      <td>8</td>\n",
       "      <td>14</td>\n",
       "      <td>14</td>\n",
       "      <td>7</td>\n",
       "      <td>88</td>\n",
       "      <td>31</td>\n",
       "      <td>True</td>\n",
       "      <td>NaN</td>\n",
       "      <td>323.0</td>\n",
       "    </tr>\n",
       "    <tr>\n",
       "      <th>3</th>\n",
       "      <td>Tower Control</td>\n",
       "      <td>5:24</td>\n",
       "      <td>7</td>\n",
       "      <td>9</td>\n",
       "      <td>16</td>\n",
       "      <td>13</td>\n",
       "      <td>7</td>\n",
       "      <td>80</td>\n",
       "      <td>92</td>\n",
       "      <td>False</td>\n",
       "      <td>NaN</td>\n",
       "      <td>324.0</td>\n",
       "    </tr>\n",
       "    <tr>\n",
       "      <th>4</th>\n",
       "      <td>Tower Control</td>\n",
       "      <td>2:44</td>\n",
       "      <td>8</td>\n",
       "      <td>2</td>\n",
       "      <td>4</td>\n",
       "      <td>4</td>\n",
       "      <td>4</td>\n",
       "      <td>100</td>\n",
       "      <td>0</td>\n",
       "      <td>True</td>\n",
       "      <td>NaN</td>\n",
       "      <td>164.0</td>\n",
       "    </tr>\n",
       "  </tbody>\n",
       "</table>\n",
       "</div>"
      ],
      "text/plain": [
       "            Mode  Time  Kills (w/assist)  Deaths  Team Kill 1  Team Kill 2  \\\n",
       "0  Tower Control  2:30                 4       3           12           12   \n",
       "1  Tower Control  5:17                11      12           14            7   \n",
       "2  Tower Control  5:23                13       8           14           14   \n",
       "3  Tower Control  5:24                 7       9           16           13   \n",
       "4  Tower Control  2:44                 8       2            4            4   \n",
       "\n",
       "   Team Kill 3  Team Count   Enemy Count   Won?  Unnamed: 10  Seconds  \n",
       "0            3          100            0   True          NaN    150.0  \n",
       "1            7           78           98  False          NaN    317.0  \n",
       "2            7           88           31   True          NaN    323.0  \n",
       "3            7           80           92  False          NaN    324.0  \n",
       "4            4          100            0   True          NaN    164.0  "
      ]
     },
     "execution_count": 255,
     "metadata": {},
     "output_type": "execute_result"
    }
   ],
   "source": [
    "#Standardize time to seconds\n",
    "from datetime import timedelta\n",
    "\n",
    "def convert_to_seconds(x):\n",
    "    minutes, seconds = map(float, x.split(\":\"))\n",
    "    td = timedelta(minutes=minutes, seconds=seconds)\n",
    "    return td.total_seconds()\n",
    "\n",
    "splatoon3[\"Seconds\"] = splatoon3[\"Time\"].apply(convert_to_seconds)\n",
    "splatoon3.head(5)"
   ]
  },
  {
   "cell_type": "code",
   "execution_count": 256,
   "id": "dc282927",
   "metadata": {},
   "outputs": [
    {
     "data": {
      "text/html": [
       "<div>\n",
       "<style scoped>\n",
       "    .dataframe tbody tr th:only-of-type {\n",
       "        vertical-align: middle;\n",
       "    }\n",
       "\n",
       "    .dataframe tbody tr th {\n",
       "        vertical-align: top;\n",
       "    }\n",
       "\n",
       "    .dataframe thead th {\n",
       "        text-align: right;\n",
       "    }\n",
       "</style>\n",
       "<table border=\"1\" class=\"dataframe\">\n",
       "  <thead>\n",
       "    <tr style=\"text-align: right;\">\n",
       "      <th></th>\n",
       "      <th>Mode</th>\n",
       "      <th>Time</th>\n",
       "      <th>Kills (w/assist)</th>\n",
       "      <th>Deaths</th>\n",
       "      <th>Team Kill 1</th>\n",
       "      <th>Team Kill 2</th>\n",
       "      <th>Team Kill 3</th>\n",
       "      <th>Team Count</th>\n",
       "      <th>Enemy Count</th>\n",
       "      <th>Won?</th>\n",
       "      <th>Unnamed: 10</th>\n",
       "      <th>Seconds</th>\n",
       "      <th>Team Kill Mean</th>\n",
       "      <th>Count Difference</th>\n",
       "      <th>Kill Rate</th>\n",
       "    </tr>\n",
       "  </thead>\n",
       "  <tbody>\n",
       "    <tr>\n",
       "      <th>0</th>\n",
       "      <td>Tower Control</td>\n",
       "      <td>2:30</td>\n",
       "      <td>4</td>\n",
       "      <td>3</td>\n",
       "      <td>12</td>\n",
       "      <td>12</td>\n",
       "      <td>3</td>\n",
       "      <td>100</td>\n",
       "      <td>0</td>\n",
       "      <td>True</td>\n",
       "      <td>NaN</td>\n",
       "      <td>150.0</td>\n",
       "      <td>9.000000</td>\n",
       "      <td>100</td>\n",
       "      <td>1.333333</td>\n",
       "    </tr>\n",
       "    <tr>\n",
       "      <th>1</th>\n",
       "      <td>Tower Control</td>\n",
       "      <td>5:17</td>\n",
       "      <td>11</td>\n",
       "      <td>12</td>\n",
       "      <td>14</td>\n",
       "      <td>7</td>\n",
       "      <td>7</td>\n",
       "      <td>78</td>\n",
       "      <td>98</td>\n",
       "      <td>False</td>\n",
       "      <td>NaN</td>\n",
       "      <td>317.0</td>\n",
       "      <td>9.333333</td>\n",
       "      <td>20</td>\n",
       "      <td>0.916667</td>\n",
       "    </tr>\n",
       "    <tr>\n",
       "      <th>2</th>\n",
       "      <td>Tower Control</td>\n",
       "      <td>5:23</td>\n",
       "      <td>13</td>\n",
       "      <td>8</td>\n",
       "      <td>14</td>\n",
       "      <td>14</td>\n",
       "      <td>7</td>\n",
       "      <td>88</td>\n",
       "      <td>31</td>\n",
       "      <td>True</td>\n",
       "      <td>NaN</td>\n",
       "      <td>323.0</td>\n",
       "      <td>11.666667</td>\n",
       "      <td>57</td>\n",
       "      <td>1.625000</td>\n",
       "    </tr>\n",
       "    <tr>\n",
       "      <th>3</th>\n",
       "      <td>Tower Control</td>\n",
       "      <td>5:24</td>\n",
       "      <td>7</td>\n",
       "      <td>9</td>\n",
       "      <td>16</td>\n",
       "      <td>13</td>\n",
       "      <td>7</td>\n",
       "      <td>80</td>\n",
       "      <td>92</td>\n",
       "      <td>False</td>\n",
       "      <td>NaN</td>\n",
       "      <td>324.0</td>\n",
       "      <td>12.000000</td>\n",
       "      <td>12</td>\n",
       "      <td>0.777778</td>\n",
       "    </tr>\n",
       "    <tr>\n",
       "      <th>4</th>\n",
       "      <td>Tower Control</td>\n",
       "      <td>2:44</td>\n",
       "      <td>8</td>\n",
       "      <td>2</td>\n",
       "      <td>4</td>\n",
       "      <td>4</td>\n",
       "      <td>4</td>\n",
       "      <td>100</td>\n",
       "      <td>0</td>\n",
       "      <td>True</td>\n",
       "      <td>NaN</td>\n",
       "      <td>164.0</td>\n",
       "      <td>4.000000</td>\n",
       "      <td>100</td>\n",
       "      <td>4.000000</td>\n",
       "    </tr>\n",
       "  </tbody>\n",
       "</table>\n",
       "</div>"
      ],
      "text/plain": [
       "            Mode  Time  Kills (w/assist)  Deaths  Team Kill 1  Team Kill 2  \\\n",
       "0  Tower Control  2:30                 4       3           12           12   \n",
       "1  Tower Control  5:17                11      12           14            7   \n",
       "2  Tower Control  5:23                13       8           14           14   \n",
       "3  Tower Control  5:24                 7       9           16           13   \n",
       "4  Tower Control  2:44                 8       2            4            4   \n",
       "\n",
       "   Team Kill 3  Team Count   Enemy Count   Won?  Unnamed: 10  Seconds  \\\n",
       "0            3          100            0   True          NaN    150.0   \n",
       "1            7           78           98  False          NaN    317.0   \n",
       "2            7           88           31   True          NaN    323.0   \n",
       "3            7           80           92  False          NaN    324.0   \n",
       "4            4          100            0   True          NaN    164.0   \n",
       "\n",
       "   Team Kill Mean  Count Difference  Kill Rate  \n",
       "0        9.000000               100   1.333333  \n",
       "1        9.333333                20   0.916667  \n",
       "2       11.666667                57   1.625000  \n",
       "3       12.000000                12   0.777778  \n",
       "4        4.000000               100   4.000000  "
      ]
     },
     "execution_count": 256,
     "metadata": {},
     "output_type": "execute_result"
    }
   ],
   "source": [
    "#Find mean of teammates' kills\n",
    "splatoon3[\"Team Kill Mean\"] = splatoon3.iloc[:, 4:7].sum(axis=1)/3\n",
    "#Determine if the match was a close match by finding the difference between teams' counts\n",
    "splatoon3[\"Count Difference\"] = abs(splatoon3[\"Team Count \"]-splatoon3[\"Enemy Count\"])\n",
    "#Find my kill rate\n",
    "splatoon3[\"Kill Rate\"] = splatoon3[\"Kills (w/assist)\"]/splatoon3[\"Deaths\"]\n",
    "splatoon3.head(5)"
   ]
  },
  {
   "cell_type": "code",
   "execution_count": 257,
   "id": "7d8db653",
   "metadata": {},
   "outputs": [
    {
     "data": {
      "text/plain": [
       "<seaborn.axisgrid.FacetGrid at 0x7fc5702f0e20>"
      ]
     },
     "execution_count": 257,
     "metadata": {},
     "output_type": "execute_result"
    },
    {
     "data": {
      "image/png": "[encoded data removed]",
      "text/plain": [
       "<Figure size 703.625x500 with 1 Axes>"
      ]
     },
     "metadata": {},
     "output_type": "display_data"
    }
   ],
   "source": [
    "scatter = sns.lmplot(data=splatoon3, x=\"Team Kill Mean\", y=\"Team Count \", hue=\"Mode\")\n",
    "scatter.set(xlim=(0, 15))\n",
    "scatter.set(ylim=(-10, 110))"
   ]
  },
  {
   "cell_type": "markdown",
   "id": "4a524f6e",
   "metadata": {},
   "source": [
    "There seems to be a positive correlation between all modes. However, there are not enough points (not enough data) to determine if there actually is an association between the two."
   ]
  }
 ],
 "metadata": {
  "kernelspec": {
   "display_name": "Python 3 (ipykernel)",
   "language": "python",
   "name": "python3"
  },
  "language_info": {
   "codemirror_mode": {
    "name": "ipython",
    "version": 3
   },
   "file_extension": ".py",
   "mimetype": "text/x-python",
   "name": "python",
   "nbconvert_exporter": "python",
   "pygments_lexer": "ipython3",
   "version": "3.9.13"
  }
 },
 "nbformat": 4,
 "nbformat_minor": 5
}
