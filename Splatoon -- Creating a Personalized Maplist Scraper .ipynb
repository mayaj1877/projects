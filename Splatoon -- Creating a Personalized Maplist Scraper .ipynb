{
 "cells": [
  {
   "cell_type": "markdown",
   "id": "7e05c5f9",
   "metadata": {},
   "source": [
    "# Creating a Personalized Maplist Scraper for Splatoon3"
   ]
  },
  {
   "cell_type": "code",
   "execution_count": 5,
   "id": "108ee619",
   "metadata": {},
   "outputs": [],
   "source": [
    "import os \n",
    "import pandas as pd\n",
    "import numpy as np\n",
    "from lxml import html\n",
    "from lxml import etree\n",
    "import requests\n",
    "from bs4 import BeautifulSoup\n",
    "import re\n",
    "import datetime"
   ]
  },
  {
   "cell_type": "code",
   "execution_count": 6,
   "id": "5f5f304c",
   "metadata": {},
   "outputs": [
    {
     "data": {
      "text/plain": [
       "{'startTime': '2023-10-30T00:00:00Z',\n",
       " 'endTime': '2023-10-30T02:00:00Z',\n",
       " 'bankaraMatchSettings': [{'__isVsSetting': 'BankaraMatchSetting',\n",
       "   '__typename': 'BankaraMatchSetting',\n",
       "   'vsStages': [{'vsStageId': 9,\n",
       "     'name': 'Flounder Heights',\n",
       "     'image': {'url': 'https://splatoon3.ink/assets/splatnet/v2/stage_img/icon/low_resolution/488017f3ce712fca9fb37d61fe306343054449bb2d2bb1751d95f54a98564cae_1.png'},\n",
       "     'id': 'VnNTdGFnZS05'},\n",
       "    {'vsStageId': 11,\n",
       "     'name': \"Museum d'Alfonsino\",\n",
       "     'image': {'url': 'https://splatoon3.ink/assets/splatnet/v2/stage_img/icon/low_resolution/b9d8cfa186d197a27e075600a107c99d9e21646d116730f0843e0fff0aaba7dd_1.png'},\n",
       "     'id': 'VnNTdGFnZS0xMQ=='}],\n",
       "   'vsRule': {'name': 'Splat Zones', 'rule': 'AREA', 'id': 'VnNSdWxlLTE='},\n",
       "   'bankaraMode': 'CHALLENGE'},\n",
       "  {'__isVsSetting': 'BankaraMatchSetting',\n",
       "   '__typename': 'BankaraMatchSetting',\n",
       "   'vsStages': [{'vsStageId': 2,\n",
       "     'name': 'Eeltail Alley',\n",
       "     'image': {'url': 'https://splatoon3.ink/assets/splatnet/v2/stage_img/icon/low_resolution/898e1ae6c737a9d44552c7c81f9b710676492681525c514eadc68a6780aa52af_1.png'},\n",
       "     'id': 'VnNTdGFnZS0y'},\n",
       "    {'vsStageId': 6,\n",
       "     'name': 'Mincemeat Metalworks',\n",
       "     'image': {'url': 'https://splatoon3.ink/assets/splatnet/v2/stage_img/icon/low_resolution/de1f212e9ff0648f36cd3b8e0917ef36b3bd51445159297dcb948f34a09f2f05_1.png'},\n",
       "     'id': 'VnNTdGFnZS02'}],\n",
       "   'vsRule': {'name': 'Rainmaker', 'rule': 'GOAL', 'id': 'VnNSdWxlLTM='},\n",
       "   'bankaraMode': 'OPEN'}],\n",
       " 'festMatchSettings': None}"
      ]
     },
     "execution_count": 6,
     "metadata": {},
     "output_type": "execute_result"
    }
   ],
   "source": [
    "page_url = \"https://splatoon3.ink/data/schedules.json\"\n",
    "start_time = []\n",
    "end_time = []\n",
    "mode_list = []\n",
    "map_list = []\n",
    "text = requests.get(page_url).text\n",
    "text\n",
    "\n",
    "import json\n",
    "data = json.loads(text)\n",
    "\n",
    "data[\"data\"][\"bankaraSchedules\"][\"nodes\"][0] #entire dataset = multiple of these"
   ]
  },
  {
   "cell_type": "code",
   "execution_count": 7,
   "id": "97b9593e",
   "metadata": {},
   "outputs": [
    {
     "name": "stdout",
     "output_type": "stream",
     "text": [
      "Rainmaker\n",
      "Tower Control\n",
      "Splat Zones\n",
      "Clam Blitz\n",
      "Rainmaker\n",
      "Tower Control\n",
      "Splat Zones\n",
      "Clam Blitz\n",
      "Rainmaker\n",
      "Tower Control\n",
      "Splat Zones\n",
      "Clam Blitz\n"
     ]
    }
   ],
   "source": [
    "for entry in data[\"data\"][\"bankaraSchedules\"][\"nodes\"]:\n",
    "    start_time.append(entry[\"startTime\"])\n",
    "    #end_time.append(entry[\"endTime\"])\n",
    "    for subentry in entry[\"bankaraMatchSettings\"]: #[\"bankaraMatchSettings\"]:\n",
    "        if subentry[\"bankaraMode\"] == \"OPEN\":\n",
    "            print(subentry[\"vsRule\"][\"name\"])\n",
    "            mode_list.append(subentry[\"vsRule\"][\"name\"])\n",
    "            for trientry in subentry[\"vsStages\"]:\n",
    "                map_list.append(trientry[\"name\"])"
   ]
  },
  {
   "cell_type": "code",
   "execution_count": 8,
   "id": "fa328ef5",
   "metadata": {},
   "outputs": [
    {
     "data": {
      "text/plain": [
       "['Rainmaker',\n",
       " 'Tower Control',\n",
       " 'Splat Zones',\n",
       " 'Clam Blitz',\n",
       " 'Rainmaker',\n",
       " 'Tower Control',\n",
       " 'Splat Zones',\n",
       " 'Clam Blitz',\n",
       " 'Rainmaker',\n",
       " 'Tower Control',\n",
       " 'Splat Zones',\n",
       " 'Clam Blitz']"
      ]
     },
     "execution_count": 8,
     "metadata": {},
     "output_type": "execute_result"
    }
   ],
   "source": [
    "mode_list"
   ]
  },
  {
   "cell_type": "code",
   "execution_count": 9,
   "id": "d10d8eee",
   "metadata": {},
   "outputs": [],
   "source": [
    "map_1 = []\n",
    "map_2 = []\n",
    "for i in range(len(map_list)):\n",
    "    if i%2==0:\n",
    "        map_1.append(map_list[i])\n",
    "    else:\n",
    "        map_2.append(map_list[i])"
   ]
  },
  {
   "cell_type": "code",
   "execution_count": 10,
   "id": "c92cb61f",
   "metadata": {},
   "outputs": [],
   "source": [
    "#pairs = []\n",
    "#for i in range(0, len(map_list), 2):\n",
    "#    pairs.append((map_list[i], map_list[i+1]))\n",
    "\n",
    "#pairs\n",
    "    \n",
    "#L = [1, 2, 3, 4, 5, 6]\n",
    "#L2 = []\n",
    "\n",
    "#for i in range(0, len(L), 2):\n",
    "# L2.append((L[i], L[i+1]))"
   ]
  },
  {
   "cell_type": "code",
   "execution_count": 11,
   "id": "65d224ec",
   "metadata": {},
   "outputs": [
    {
     "data": {
      "text/plain": [
       "12"
      ]
     },
     "execution_count": 11,
     "metadata": {},
     "output_type": "execute_result"
    }
   ],
   "source": [
    "len(mode_list)"
   ]
  },
  {
   "cell_type": "code",
   "execution_count": 12,
   "id": "8b9cd3bc",
   "metadata": {},
   "outputs": [],
   "source": [
    "import pandas as pd\n",
    "#full_data = {\"title\" : title_list, \"rank_no\" : rank_list,\"price\":price_list,'appid':appid_list,'bundleid':bundleid_list,'crtrids':crtrids_list}\n",
    "full_data = {\"startTime\": start_time[:13], \"mode\":mode_list, \"map1\": map_1, \"map2\": map_2} #\"endTime\": end_time[:12]\n",
    "full_df=pd.DataFrame(full_data)\n",
    "full_df.to_csv(\"splatoon_maps.csv\")\n"
   ]
  },
  {
   "cell_type": "code",
   "execution_count": 13,
   "id": "03d86490",
   "metadata": {},
   "outputs": [
    {
     "data": {
      "text/html": [
       "<div>\n",
       "<style scoped>\n",
       "    .dataframe tbody tr th:only-of-type {\n",
       "        vertical-align: middle;\n",
       "    }\n",
       "\n",
       "    .dataframe tbody tr th {\n",
       "        vertical-align: top;\n",
       "    }\n",
       "\n",
       "    .dataframe thead th {\n",
       "        text-align: right;\n",
       "    }\n",
       "</style>\n",
       "<table border=\"1\" class=\"dataframe\">\n",
       "  <thead>\n",
       "    <tr style=\"text-align: right;\">\n",
       "      <th></th>\n",
       "      <th>startTime</th>\n",
       "      <th>mode</th>\n",
       "      <th>map1</th>\n",
       "      <th>map2</th>\n",
       "    </tr>\n",
       "  </thead>\n",
       "  <tbody>\n",
       "    <tr>\n",
       "      <th>0</th>\n",
       "      <td>2023-10-30T00:00:00Z</td>\n",
       "      <td>Rainmaker</td>\n",
       "      <td>Eeltail Alley</td>\n",
       "      <td>Mincemeat Metalworks</td>\n",
       "    </tr>\n",
       "    <tr>\n",
       "      <th>1</th>\n",
       "      <td>2023-10-30T02:00:00Z</td>\n",
       "      <td>Tower Control</td>\n",
       "      <td>Undertow Spillway</td>\n",
       "      <td>Hammerhead Bridge</td>\n",
       "    </tr>\n",
       "    <tr>\n",
       "      <th>2</th>\n",
       "      <td>2023-10-30T04:00:00Z</td>\n",
       "      <td>Splat Zones</td>\n",
       "      <td>Inkblot Art Academy</td>\n",
       "      <td>Manta Maria</td>\n",
       "    </tr>\n",
       "    <tr>\n",
       "      <th>3</th>\n",
       "      <td>2023-10-30T06:00:00Z</td>\n",
       "      <td>Clam Blitz</td>\n",
       "      <td>Hagglefish Market</td>\n",
       "      <td>Shipshape Cargo Co.</td>\n",
       "    </tr>\n",
       "    <tr>\n",
       "      <th>4</th>\n",
       "      <td>2023-10-30T08:00:00Z</td>\n",
       "      <td>Rainmaker</td>\n",
       "      <td>Scorch Gorge</td>\n",
       "      <td>Brinewater Springs</td>\n",
       "    </tr>\n",
       "    <tr>\n",
       "      <th>5</th>\n",
       "      <td>2023-10-30T10:00:00Z</td>\n",
       "      <td>Tower Control</td>\n",
       "      <td>Um'ami Ruins</td>\n",
       "      <td>Crableg Capital</td>\n",
       "    </tr>\n",
       "    <tr>\n",
       "      <th>6</th>\n",
       "      <td>2023-10-30T12:00:00Z</td>\n",
       "      <td>Splat Zones</td>\n",
       "      <td>Museum d'Alfonsino</td>\n",
       "      <td>Humpback Pump Track</td>\n",
       "    </tr>\n",
       "    <tr>\n",
       "      <th>7</th>\n",
       "      <td>2023-10-30T14:00:00Z</td>\n",
       "      <td>Clam Blitz</td>\n",
       "      <td>MakoMart</td>\n",
       "      <td>Wahoo World</td>\n",
       "    </tr>\n",
       "    <tr>\n",
       "      <th>8</th>\n",
       "      <td>2023-10-30T16:00:00Z</td>\n",
       "      <td>Rainmaker</td>\n",
       "      <td>Barnacle &amp; Dime</td>\n",
       "      <td>Sturgeon Shipyard</td>\n",
       "    </tr>\n",
       "    <tr>\n",
       "      <th>9</th>\n",
       "      <td>2023-10-30T18:00:00Z</td>\n",
       "      <td>Tower Control</td>\n",
       "      <td>Flounder Heights</td>\n",
       "      <td>Hammerhead Bridge</td>\n",
       "    </tr>\n",
       "    <tr>\n",
       "      <th>10</th>\n",
       "      <td>2023-10-30T20:00:00Z</td>\n",
       "      <td>Splat Zones</td>\n",
       "      <td>Undertow Spillway</td>\n",
       "      <td>Inkblot Art Academy</td>\n",
       "    </tr>\n",
       "    <tr>\n",
       "      <th>11</th>\n",
       "      <td>2023-10-30T22:00:00Z</td>\n",
       "      <td>Clam Blitz</td>\n",
       "      <td>Hagglefish Market</td>\n",
       "      <td>Mincemeat Metalworks</td>\n",
       "    </tr>\n",
       "  </tbody>\n",
       "</table>\n",
       "</div>"
      ],
      "text/plain": [
       "               startTime           mode                 map1  \\\n",
       "0   2023-10-30T00:00:00Z      Rainmaker        Eeltail Alley   \n",
       "1   2023-10-30T02:00:00Z  Tower Control    Undertow Spillway   \n",
       "2   2023-10-30T04:00:00Z    Splat Zones  Inkblot Art Academy   \n",
       "3   2023-10-30T06:00:00Z     Clam Blitz    Hagglefish Market   \n",
       "4   2023-10-30T08:00:00Z      Rainmaker         Scorch Gorge   \n",
       "5   2023-10-30T10:00:00Z  Tower Control         Um'ami Ruins   \n",
       "6   2023-10-30T12:00:00Z    Splat Zones   Museum d'Alfonsino   \n",
       "7   2023-10-30T14:00:00Z     Clam Blitz             MakoMart   \n",
       "8   2023-10-30T16:00:00Z      Rainmaker      Barnacle & Dime   \n",
       "9   2023-10-30T18:00:00Z  Tower Control     Flounder Heights   \n",
       "10  2023-10-30T20:00:00Z    Splat Zones    Undertow Spillway   \n",
       "11  2023-10-30T22:00:00Z     Clam Blitz    Hagglefish Market   \n",
       "\n",
       "                    map2  \n",
       "0   Mincemeat Metalworks  \n",
       "1      Hammerhead Bridge  \n",
       "2            Manta Maria  \n",
       "3    Shipshape Cargo Co.  \n",
       "4     Brinewater Springs  \n",
       "5        Crableg Capital  \n",
       "6    Humpback Pump Track  \n",
       "7            Wahoo World  \n",
       "8      Sturgeon Shipyard  \n",
       "9      Hammerhead Bridge  \n",
       "10   Inkblot Art Academy  \n",
       "11  Mincemeat Metalworks  "
      ]
     },
     "execution_count": 13,
     "metadata": {},
     "output_type": "execute_result"
    }
   ],
   "source": [
    "splatoon = pd.read_csv(\"splatoon_maps.csv\")\n",
    "splatoon = splatoon.drop(columns=[\"Unnamed: 0\"])\n",
    "splatoon"
   ]
  },
  {
   "cell_type": "code",
   "execution_count": 14,
   "id": "31ce84c1",
   "metadata": {},
   "outputs": [
    {
     "data": {
      "text/plain": [
       "['17:00',\n",
       " '19:00',\n",
       " '21:00',\n",
       " '23:00',\n",
       " '01:00',\n",
       " '03:00',\n",
       " '05:00',\n",
       " '07:00',\n",
       " '09:00',\n",
       " '11:00',\n",
       " '13:00',\n",
       " '15:00']"
      ]
     },
     "execution_count": 14,
     "metadata": {},
     "output_type": "execute_result"
    }
   ],
   "source": [
    "from datetime import datetime\n",
    "import pytz\n",
    "\n",
    "#datetime.fromisoformat('2020-01-06T00:00:00.000Z'[:-1] + '+00:00')\n",
    "#datetime.datetime(2020, 1, 6, 0, 0, tzinfo=datetime.timezone.utc)\n",
    "\n",
    "first = splatoon[\"startTime\"].values[0]\n",
    "\n",
    "values = []\n",
    "for i in splatoon[\"startTime\"].values:\n",
    "    d = datetime.fromisoformat(i[:-1]) #.astimezone(timezone.utc)\n",
    "    \n",
    "    utc = pytz.utc.localize(d)\n",
    "    pst = utc.astimezone(pytz.timezone(\"America/Los_Angeles\"))\n",
    "    values.append(pst.strftime(\"%H:%M\"))\n",
    "\n",
    "values"
   ]
  },
  {
   "cell_type": "code",
   "execution_count": 15,
   "id": "65f460f5",
   "metadata": {},
   "outputs": [],
   "source": [
    "splatoon[\"time\"] = values\n",
    "splatoon = splatoon[[\"time\", \"mode\", \"map1\", \"map2\"]]"
   ]
  },
  {
   "cell_type": "code",
   "execution_count": 16,
   "id": "4df403bd",
   "metadata": {},
   "outputs": [],
   "source": [
    "splatoon.to_csv(\"rotations.csv\") #save"
   ]
  },
  {
   "cell_type": "markdown",
   "id": "efbfc7c8",
   "metadata": {},
   "source": [
    "### All Map Modes:"
   ]
  },
  {
   "cell_type": "code",
   "execution_count": 17,
   "id": "3552cd0d",
   "metadata": {},
   "outputs": [
    {
     "data": {
      "text/html": [
       "<div>\n",
       "<style scoped>\n",
       "    .dataframe tbody tr th:only-of-type {\n",
       "        vertical-align: middle;\n",
       "    }\n",
       "\n",
       "    .dataframe tbody tr th {\n",
       "        vertical-align: top;\n",
       "    }\n",
       "\n",
       "    .dataframe thead th {\n",
       "        text-align: right;\n",
       "    }\n",
       "</style>\n",
       "<table border=\"1\" class=\"dataframe\">\n",
       "  <thead>\n",
       "    <tr style=\"text-align: right;\">\n",
       "      <th></th>\n",
       "      <th>time</th>\n",
       "      <th>mode</th>\n",
       "      <th>map1</th>\n",
       "      <th>map2</th>\n",
       "    </tr>\n",
       "  </thead>\n",
       "  <tbody>\n",
       "    <tr>\n",
       "      <th>0</th>\n",
       "      <td>17:00</td>\n",
       "      <td>Rainmaker</td>\n",
       "      <td>Eeltail Alley</td>\n",
       "      <td>Mincemeat Metalworks</td>\n",
       "    </tr>\n",
       "    <tr>\n",
       "      <th>1</th>\n",
       "      <td>19:00</td>\n",
       "      <td>Tower Control</td>\n",
       "      <td>Undertow Spillway</td>\n",
       "      <td>Hammerhead Bridge</td>\n",
       "    </tr>\n",
       "    <tr>\n",
       "      <th>2</th>\n",
       "      <td>21:00</td>\n",
       "      <td>Splat Zones</td>\n",
       "      <td>Inkblot Art Academy</td>\n",
       "      <td>Manta Maria</td>\n",
       "    </tr>\n",
       "    <tr>\n",
       "      <th>3</th>\n",
       "      <td>23:00</td>\n",
       "      <td>Clam Blitz</td>\n",
       "      <td>Hagglefish Market</td>\n",
       "      <td>Shipshape Cargo Co.</td>\n",
       "    </tr>\n",
       "    <tr>\n",
       "      <th>4</th>\n",
       "      <td>01:00</td>\n",
       "      <td>Rainmaker</td>\n",
       "      <td>Scorch Gorge</td>\n",
       "      <td>Brinewater Springs</td>\n",
       "    </tr>\n",
       "    <tr>\n",
       "      <th>5</th>\n",
       "      <td>03:00</td>\n",
       "      <td>Tower Control</td>\n",
       "      <td>Um'ami Ruins</td>\n",
       "      <td>Crableg Capital</td>\n",
       "    </tr>\n",
       "    <tr>\n",
       "      <th>6</th>\n",
       "      <td>05:00</td>\n",
       "      <td>Splat Zones</td>\n",
       "      <td>Museum d'Alfonsino</td>\n",
       "      <td>Humpback Pump Track</td>\n",
       "    </tr>\n",
       "    <tr>\n",
       "      <th>7</th>\n",
       "      <td>07:00</td>\n",
       "      <td>Clam Blitz</td>\n",
       "      <td>MakoMart</td>\n",
       "      <td>Wahoo World</td>\n",
       "    </tr>\n",
       "    <tr>\n",
       "      <th>8</th>\n",
       "      <td>09:00</td>\n",
       "      <td>Rainmaker</td>\n",
       "      <td>Barnacle &amp; Dime</td>\n",
       "      <td>Sturgeon Shipyard</td>\n",
       "    </tr>\n",
       "    <tr>\n",
       "      <th>9</th>\n",
       "      <td>11:00</td>\n",
       "      <td>Tower Control</td>\n",
       "      <td>Flounder Heights</td>\n",
       "      <td>Hammerhead Bridge</td>\n",
       "    </tr>\n",
       "    <tr>\n",
       "      <th>10</th>\n",
       "      <td>13:00</td>\n",
       "      <td>Splat Zones</td>\n",
       "      <td>Undertow Spillway</td>\n",
       "      <td>Inkblot Art Academy</td>\n",
       "    </tr>\n",
       "    <tr>\n",
       "      <th>11</th>\n",
       "      <td>15:00</td>\n",
       "      <td>Clam Blitz</td>\n",
       "      <td>Hagglefish Market</td>\n",
       "      <td>Mincemeat Metalworks</td>\n",
       "    </tr>\n",
       "  </tbody>\n",
       "</table>\n",
       "</div>"
      ],
      "text/plain": [
       "     time           mode                 map1                  map2\n",
       "0   17:00      Rainmaker        Eeltail Alley  Mincemeat Metalworks\n",
       "1   19:00  Tower Control    Undertow Spillway     Hammerhead Bridge\n",
       "2   21:00    Splat Zones  Inkblot Art Academy           Manta Maria\n",
       "3   23:00     Clam Blitz    Hagglefish Market   Shipshape Cargo Co.\n",
       "4   01:00      Rainmaker         Scorch Gorge    Brinewater Springs\n",
       "5   03:00  Tower Control         Um'ami Ruins       Crableg Capital\n",
       "6   05:00    Splat Zones   Museum d'Alfonsino   Humpback Pump Track\n",
       "7   07:00     Clam Blitz             MakoMart           Wahoo World\n",
       "8   09:00      Rainmaker      Barnacle & Dime     Sturgeon Shipyard\n",
       "9   11:00  Tower Control     Flounder Heights     Hammerhead Bridge\n",
       "10  13:00    Splat Zones    Undertow Spillway   Inkblot Art Academy\n",
       "11  15:00     Clam Blitz    Hagglefish Market  Mincemeat Metalworks"
      ]
     },
     "execution_count": 17,
     "metadata": {},
     "output_type": "execute_result"
    }
   ],
   "source": [
    "splatoon"
   ]
  },
  {
   "cell_type": "markdown",
   "id": "0692465f",
   "metadata": {},
   "source": [
    "### Now, pick 1-2 maps you want to know the schedule of for each mode (i.e. map preferences)"
   ]
  },
  {
   "cell_type": "code",
   "execution_count": 18,
   "id": "9879e552",
   "metadata": {},
   "outputs": [],
   "source": [
    "zones = splatoon[splatoon[\"mode\"]==\"Splat Zones\"]\n",
    "maps_zones_1 = zones[(zones[\"map1\"]==\"Hagglefish Market\") | (zones[\"map2\"]==\"MantaMaria\")]\n",
    "maps_zones_2 = zones[(zones[\"map2\"]==\"Hagglefish Market\") | (zones[\"map2\"]==\"Manta Maria\")]\n",
    "\n",
    "tower = splatoon[splatoon[\"mode\"]==\"Tower Control\"]\n",
    "maps_tower_1 = tower[(tower[\"map1\"]==\"Museum d'Alfonsino\") | (tower[\"map2\"]==\"Sturgeon Shipyard\")]\n",
    "maps_tower_2 = tower[(tower[\"map2\"]==\"Museum d'Alfonsino\") | (tower[\"map1\"]==\"Sturgeon Shipyard\")]\n",
    "\n",
    "rain = splatoon[splatoon[\"mode\"]==\"Rainmaker\"]\n",
    "maps_rain_1 = rain[(rain[\"map1\"]==\"Eeltail Alley\") | (rain[\"map2\"]==\"Undertow Spillway\")]\n",
    "maps_rain_2 = rain[(rain[\"map2\"]==\"Eeltail Alley\") | (rain[\"map1\"]==\"Undertow Spillway\")]\n",
    "\n",
    "clams = splatoon[splatoon[\"mode\"]==\"Clam Blitz\"]\n",
    "maps_clams_1 = clams[(clams[\"map1\"]==\"Shipshape Cargo Co.\") | (clams[\"map2\"]==\"Shipshape Cargo Co.\")]\n",
    "maps_clams_2 = None\n",
    "\n",
    "all_modes = pd.concat([maps_zones_1, maps_zones_2, maps_tower_1, maps_tower_2, maps_rain_1, maps_rain_2, \n",
    "                       maps_clams_1, maps_clams_2], join=\"inner\")\n",
    "\n",
    "#all_modes = pd.concat([maps_zones_1, maps_zones_2, maps_tower_1, maps_tower_2, maps_rain_1, maps_rain_2, \n",
    "#                       maps_clams_1, maps_clams_2], join=\"inner\")"
   ]
  },
  {
   "cell_type": "markdown",
   "id": "25b70bdb",
   "metadata": {},
   "source": [
    "## Result Table:"
   ]
  },
  {
   "cell_type": "code",
   "execution_count": 19,
   "id": "47d72436",
   "metadata": {},
   "outputs": [
    {
     "data": {
      "text/html": [
       "<div>\n",
       "<style scoped>\n",
       "    .dataframe tbody tr th:only-of-type {\n",
       "        vertical-align: middle;\n",
       "    }\n",
       "\n",
       "    .dataframe tbody tr th {\n",
       "        vertical-align: top;\n",
       "    }\n",
       "\n",
       "    .dataframe thead th {\n",
       "        text-align: right;\n",
       "    }\n",
       "</style>\n",
       "<table border=\"1\" class=\"dataframe\">\n",
       "  <thead>\n",
       "    <tr style=\"text-align: right;\">\n",
       "      <th></th>\n",
       "      <th>time</th>\n",
       "      <th>mode</th>\n",
       "      <th>map1</th>\n",
       "      <th>map2</th>\n",
       "    </tr>\n",
       "  </thead>\n",
       "  <tbody>\n",
       "    <tr>\n",
       "      <th>0</th>\n",
       "      <td>17:00</td>\n",
       "      <td>Rainmaker</td>\n",
       "      <td>Eeltail Alley</td>\n",
       "      <td>Mincemeat Metalworks</td>\n",
       "    </tr>\n",
       "    <tr>\n",
       "      <th>1</th>\n",
       "      <td>21:00</td>\n",
       "      <td>Splat Zones</td>\n",
       "      <td>Inkblot Art Academy</td>\n",
       "      <td>Manta Maria</td>\n",
       "    </tr>\n",
       "    <tr>\n",
       "      <th>2</th>\n",
       "      <td>23:00</td>\n",
       "      <td>Clam Blitz</td>\n",
       "      <td>Hagglefish Market</td>\n",
       "      <td>Shipshape Cargo Co.</td>\n",
       "    </tr>\n",
       "  </tbody>\n",
       "</table>\n",
       "</div>"
      ],
      "text/plain": [
       "    time         mode                 map1                  map2\n",
       "0  17:00    Rainmaker        Eeltail Alley  Mincemeat Metalworks\n",
       "1  21:00  Splat Zones  Inkblot Art Academy           Manta Maria\n",
       "2  23:00   Clam Blitz    Hagglefish Market   Shipshape Cargo Co."
      ]
     },
     "execution_count": 19,
     "metadata": {},
     "output_type": "execute_result"
    }
   ],
   "source": [
    "all_modes.sort_values(by=[\"time\"]).reset_index().drop(columns=[\"index\"])"
   ]
  },
  {
   "cell_type": "markdown",
   "id": "d86ed026",
   "metadata": {},
   "source": [
    "### **Finding:** There are usually 1-4 rotations that match one's map preferences for all modes."
   ]
  },
  {
   "cell_type": "code",
   "execution_count": null,
   "id": "5ec98697",
   "metadata": {},
   "outputs": [],
   "source": []
  }
 ],
 "metadata": {
  "kernelspec": {
   "display_name": "Python 3 (ipykernel)",
   "language": "python",
   "name": "python3"
  },
  "language_info": {
   "codemirror_mode": {
    "name": "ipython",
    "version": 3
   },
   "file_extension": ".py",
   "mimetype": "text/x-python",
   "name": "python",
   "nbconvert_exporter": "python",
   "pygments_lexer": "ipython3",
   "version": "3.10.9"
  }
 },
 "nbformat": 4,
 "nbformat_minor": 5
}
