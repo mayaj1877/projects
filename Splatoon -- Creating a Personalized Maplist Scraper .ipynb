{
 "cells": [
  {
   "cell_type": "markdown",
   "id": "7e05c5f9",
   "metadata": {},
   "source": [
    "# Creating a Personalized Maplist Scraper for Splatoon3"
   ]
  },
  {
   "cell_type": "code",
   "execution_count": 38,
   "id": "108ee619",
   "metadata": {},
   "outputs": [],
   "source": [
    "import os \n",
    "import pandas as pd\n",
    "import numpy as np\n",
    "from lxml import html\n",
    "from lxml import etree\n",
    "import requests\n",
    "from bs4 import BeautifulSoup\n",
    "import re\n",
    "import datetime"
   ]
  },
  {
   "cell_type": "code",
   "execution_count": 39,
   "id": "5f5f304c",
   "metadata": {},
   "outputs": [
    {
     "data": {
      "text/plain": [
       "{'startTime': '2023-10-19T20:00:00Z',\n",
       " 'endTime': '2023-10-19T22:00:00Z',\n",
       " 'bankaraMatchSettings': [{'__isVsSetting': 'BankaraMatchSetting',\n",
       "   '__typename': 'BankaraMatchSetting',\n",
       "   'vsStages': [{'vsStageId': 12,\n",
       "     'name': 'Mahi-Mahi Resort',\n",
       "     'image': {'url': 'https://splatoon3.ink/assets/splatnet/v2/stage_img/icon/low_resolution/8273118c1ffe1bf6fe031c7d8c9795dab52632c9b76e8e9f01f644ac5ae0ccc0_1.png'},\n",
       "     'id': 'VnNTdGFnZS0xMg=='},\n",
       "    {'vsStageId': 18,\n",
       "     'name': 'Manta Maria',\n",
       "     'image': {'url': 'https://splatoon3.ink/assets/splatnet/v2/stage_img/icon/low_resolution/0b7fd997781e03eb9d5bf1875ed070f698afc654f4fe929452c65aa26c0a35fd_1.png'},\n",
       "     'id': 'VnNTdGFnZS0xOA=='}],\n",
       "   'vsRule': {'name': 'Tower Control', 'rule': 'LOFT', 'id': 'VnNSdWxlLTI='},\n",
       "   'bankaraMode': 'CHALLENGE'},\n",
       "  {'__isVsSetting': 'BankaraMatchSetting',\n",
       "   '__typename': 'BankaraMatchSetting',\n",
       "   'vsStages': [{'vsStageId': 12,\n",
       "     'name': 'Mahi-Mahi Resort',\n",
       "     'image': {'url': 'https://splatoon3.ink/assets/splatnet/v2/stage_img/icon/low_resolution/8273118c1ffe1bf6fe031c7d8c9795dab52632c9b76e8e9f01f644ac5ae0ccc0_1.png'},\n",
       "     'id': 'VnNTdGFnZS0xMg=='},\n",
       "    {'vsStageId': 16,\n",
       "     'name': 'Wahoo World',\n",
       "     'image': {'url': 'https://splatoon3.ink/assets/splatnet/v2/stage_img/icon/low_resolution/61ea801fa4ed32360dcaf83986222ded46a72dbf56194acc6d0cf4659a92ba85_1.png'},\n",
       "     'id': 'VnNTdGFnZS0xNg=='}],\n",
       "   'vsRule': {'name': 'Rainmaker', 'rule': 'GOAL', 'id': 'VnNSdWxlLTM='},\n",
       "   'bankaraMode': 'OPEN'}],\n",
       " 'festMatchSettings': None}"
      ]
     },
     "execution_count": 39,
     "metadata": {},
     "output_type": "execute_result"
    }
   ],
   "source": [
    "page_url = \"https://splatoon3.ink/data/schedules.json\"\n",
    "start_time = []\n",
    "end_time = []\n",
    "mode_list = []\n",
    "map_list = []\n",
    "text = requests.get(page_url).text\n",
    "text\n",
    "\n",
    "import json\n",
    "data = json.loads(text)\n",
    "\n",
    "data[\"data\"][\"bankaraSchedules\"][\"nodes\"][0] #entire dataset = multiple of these"
   ]
  },
  {
   "cell_type": "code",
   "execution_count": 40,
   "id": "97b9593e",
   "metadata": {},
   "outputs": [
    {
     "name": "stdout",
     "output_type": "stream",
     "text": [
      "Rainmaker\n",
      "Splat Zones\n",
      "Rainmaker\n",
      "Tower Control\n",
      "Splat Zones\n",
      "Clam Blitz\n",
      "Rainmaker\n",
      "Tower Control\n",
      "Splat Zones\n",
      "Clam Blitz\n",
      "Rainmaker\n",
      "Tower Control\n"
     ]
    }
   ],
   "source": [
    "for entry in data[\"data\"][\"bankaraSchedules\"][\"nodes\"]:\n",
    "    start_time.append(entry[\"startTime\"])\n",
    "    #end_time.append(entry[\"endTime\"])\n",
    "    for subentry in entry[\"bankaraMatchSettings\"]: #[\"bankaraMatchSettings\"]:\n",
    "        if subentry[\"bankaraMode\"] == \"OPEN\":\n",
    "            print(subentry[\"vsRule\"][\"name\"])\n",
    "            mode_list.append(subentry[\"vsRule\"][\"name\"])\n",
    "            for trientry in subentry[\"vsStages\"]:\n",
    "                map_list.append(trientry[\"name\"])"
   ]
  },
  {
   "cell_type": "code",
   "execution_count": 41,
   "id": "fa328ef5",
   "metadata": {},
   "outputs": [
    {
     "data": {
      "text/plain": [
       "['Rainmaker',\n",
       " 'Splat Zones',\n",
       " 'Rainmaker',\n",
       " 'Tower Control',\n",
       " 'Splat Zones',\n",
       " 'Clam Blitz',\n",
       " 'Rainmaker',\n",
       " 'Tower Control',\n",
       " 'Splat Zones',\n",
       " 'Clam Blitz',\n",
       " 'Rainmaker',\n",
       " 'Tower Control']"
      ]
     },
     "execution_count": 41,
     "metadata": {},
     "output_type": "execute_result"
    }
   ],
   "source": [
    "mode_list"
   ]
  },
  {
   "cell_type": "code",
   "execution_count": 42,
   "id": "d10d8eee",
   "metadata": {},
   "outputs": [],
   "source": [
    "map_1 = []\n",
    "map_2 = []\n",
    "for i in range(len(map_list)):\n",
    "    if i%2==0:\n",
    "        map_1.append(map_list[i])\n",
    "    else:\n",
    "        map_2.append(map_list[i])"
   ]
  },
  {
   "cell_type": "code",
   "execution_count": 43,
   "id": "c92cb61f",
   "metadata": {},
   "outputs": [],
   "source": [
    "#pairs = []\n",
    "#for i in range(0, len(map_list), 2):\n",
    "#    pairs.append((map_list[i], map_list[i+1]))\n",
    "\n",
    "#pairs\n",
    "    \n",
    "#L = [1, 2, 3, 4, 5, 6]\n",
    "#L2 = []\n",
    "\n",
    "#for i in range(0, len(L), 2):\n",
    "# L2.append((L[i], L[i+1]))"
   ]
  },
  {
   "cell_type": "code",
   "execution_count": 44,
   "id": "65d224ec",
   "metadata": {},
   "outputs": [
    {
     "data": {
      "text/plain": [
       "12"
      ]
     },
     "execution_count": 44,
     "metadata": {},
     "output_type": "execute_result"
    }
   ],
   "source": [
    "len(mode_list)"
   ]
  },
  {
   "cell_type": "code",
   "execution_count": 45,
   "id": "8b9cd3bc",
   "metadata": {},
   "outputs": [],
   "source": [
    "import pandas as pd\n",
    "#full_data = {\"title\" : title_list, \"rank_no\" : rank_list,\"price\":price_list,'appid':appid_list,'bundleid':bundleid_list,'crtrids':crtrids_list}\n",
    "full_data = {\"startTime\": start_time[:13], \"mode\":mode_list, \"map1\": map_1, \"map2\": map_2} #\"endTime\": end_time[:12]\n",
    "full_df=pd.DataFrame(full_data)\n",
    "full_df.to_csv(\"splatoon_maps.csv\")\n"
   ]
  },
  {
   "cell_type": "code",
   "execution_count": 46,
   "id": "03d86490",
   "metadata": {},
   "outputs": [
    {
     "data": {
      "text/html": [
       "<div>\n",
       "<style scoped>\n",
       "    .dataframe tbody tr th:only-of-type {\n",
       "        vertical-align: middle;\n",
       "    }\n",
       "\n",
       "    .dataframe tbody tr th {\n",
       "        vertical-align: top;\n",
       "    }\n",
       "\n",
       "    .dataframe thead th {\n",
       "        text-align: right;\n",
       "    }\n",
       "</style>\n",
       "<table border=\"1\" class=\"dataframe\">\n",
       "  <thead>\n",
       "    <tr style=\"text-align: right;\">\n",
       "      <th></th>\n",
       "      <th>startTime</th>\n",
       "      <th>mode</th>\n",
       "      <th>map1</th>\n",
       "      <th>map2</th>\n",
       "    </tr>\n",
       "  </thead>\n",
       "  <tbody>\n",
       "    <tr>\n",
       "      <th>0</th>\n",
       "      <td>2023-10-19T20:00:00Z</td>\n",
       "      <td>Rainmaker</td>\n",
       "      <td>Mahi-Mahi Resort</td>\n",
       "      <td>Wahoo World</td>\n",
       "    </tr>\n",
       "    <tr>\n",
       "      <th>1</th>\n",
       "      <td>2023-10-19T22:00:00Z</td>\n",
       "      <td>Splat Zones</td>\n",
       "      <td>Hammerhead Bridge</td>\n",
       "      <td>MakoMart</td>\n",
       "    </tr>\n",
       "    <tr>\n",
       "      <th>2</th>\n",
       "      <td>2023-10-20T00:00:00Z</td>\n",
       "      <td>Rainmaker</td>\n",
       "      <td>Barnacle &amp; Dime</td>\n",
       "      <td>Museum d'Alfonsino</td>\n",
       "    </tr>\n",
       "    <tr>\n",
       "      <th>3</th>\n",
       "      <td>2023-10-20T02:00:00Z</td>\n",
       "      <td>Tower Control</td>\n",
       "      <td>Mincemeat Metalworks</td>\n",
       "      <td>Flounder Heights</td>\n",
       "    </tr>\n",
       "    <tr>\n",
       "      <th>4</th>\n",
       "      <td>2023-10-20T04:00:00Z</td>\n",
       "      <td>Splat Zones</td>\n",
       "      <td>Undertow Spillway</td>\n",
       "      <td>Um'ami Ruins</td>\n",
       "    </tr>\n",
       "    <tr>\n",
       "      <th>5</th>\n",
       "      <td>2023-10-20T06:00:00Z</td>\n",
       "      <td>Clam Blitz</td>\n",
       "      <td>Hagglefish Market</td>\n",
       "      <td>Brinewater Springs</td>\n",
       "    </tr>\n",
       "    <tr>\n",
       "      <th>6</th>\n",
       "      <td>2023-10-20T08:00:00Z</td>\n",
       "      <td>Rainmaker</td>\n",
       "      <td>Eeltail Alley</td>\n",
       "      <td>Shipshape Cargo Co.</td>\n",
       "    </tr>\n",
       "    <tr>\n",
       "      <th>7</th>\n",
       "      <td>2023-10-20T10:00:00Z</td>\n",
       "      <td>Tower Control</td>\n",
       "      <td>Manta Maria</td>\n",
       "      <td>Crableg Capital</td>\n",
       "    </tr>\n",
       "    <tr>\n",
       "      <th>8</th>\n",
       "      <td>2023-10-20T12:00:00Z</td>\n",
       "      <td>Splat Zones</td>\n",
       "      <td>Undertow Spillway</td>\n",
       "      <td>Sturgeon Shipyard</td>\n",
       "    </tr>\n",
       "    <tr>\n",
       "      <th>9</th>\n",
       "      <td>2023-10-20T14:00:00Z</td>\n",
       "      <td>Clam Blitz</td>\n",
       "      <td>Mincemeat Metalworks</td>\n",
       "      <td>Humpback Pump Track</td>\n",
       "    </tr>\n",
       "    <tr>\n",
       "      <th>10</th>\n",
       "      <td>2023-10-20T16:00:00Z</td>\n",
       "      <td>Rainmaker</td>\n",
       "      <td>Inkblot Art Academy</td>\n",
       "      <td>Wahoo World</td>\n",
       "    </tr>\n",
       "    <tr>\n",
       "      <th>11</th>\n",
       "      <td>2023-10-20T18:00:00Z</td>\n",
       "      <td>Tower Control</td>\n",
       "      <td>Flounder Heights</td>\n",
       "      <td>MakoMart</td>\n",
       "    </tr>\n",
       "  </tbody>\n",
       "</table>\n",
       "</div>"
      ],
      "text/plain": [
       "               startTime           mode                  map1  \\\n",
       "0   2023-10-19T20:00:00Z      Rainmaker      Mahi-Mahi Resort   \n",
       "1   2023-10-19T22:00:00Z    Splat Zones     Hammerhead Bridge   \n",
       "2   2023-10-20T00:00:00Z      Rainmaker       Barnacle & Dime   \n",
       "3   2023-10-20T02:00:00Z  Tower Control  Mincemeat Metalworks   \n",
       "4   2023-10-20T04:00:00Z    Splat Zones     Undertow Spillway   \n",
       "5   2023-10-20T06:00:00Z     Clam Blitz     Hagglefish Market   \n",
       "6   2023-10-20T08:00:00Z      Rainmaker         Eeltail Alley   \n",
       "7   2023-10-20T10:00:00Z  Tower Control           Manta Maria   \n",
       "8   2023-10-20T12:00:00Z    Splat Zones     Undertow Spillway   \n",
       "9   2023-10-20T14:00:00Z     Clam Blitz  Mincemeat Metalworks   \n",
       "10  2023-10-20T16:00:00Z      Rainmaker   Inkblot Art Academy   \n",
       "11  2023-10-20T18:00:00Z  Tower Control      Flounder Heights   \n",
       "\n",
       "                   map2  \n",
       "0           Wahoo World  \n",
       "1              MakoMart  \n",
       "2    Museum d'Alfonsino  \n",
       "3      Flounder Heights  \n",
       "4          Um'ami Ruins  \n",
       "5    Brinewater Springs  \n",
       "6   Shipshape Cargo Co.  \n",
       "7       Crableg Capital  \n",
       "8     Sturgeon Shipyard  \n",
       "9   Humpback Pump Track  \n",
       "10          Wahoo World  \n",
       "11             MakoMart  "
      ]
     },
     "execution_count": 46,
     "metadata": {},
     "output_type": "execute_result"
    }
   ],
   "source": [
    "splatoon = pd.read_csv(\"splatoon_maps.csv\")\n",
    "splatoon = splatoon.drop(columns=[\"Unnamed: 0\"])\n",
    "splatoon"
   ]
  },
  {
   "cell_type": "code",
   "execution_count": 47,
   "id": "31ce84c1",
   "metadata": {},
   "outputs": [
    {
     "data": {
      "text/plain": [
       "['13:00',\n",
       " '15:00',\n",
       " '17:00',\n",
       " '19:00',\n",
       " '21:00',\n",
       " '23:00',\n",
       " '01:00',\n",
       " '03:00',\n",
       " '05:00',\n",
       " '07:00',\n",
       " '09:00',\n",
       " '11:00']"
      ]
     },
     "execution_count": 47,
     "metadata": {},
     "output_type": "execute_result"
    }
   ],
   "source": [
    "from datetime import datetime\n",
    "import pytz\n",
    "\n",
    "#datetime.fromisoformat('2020-01-06T00:00:00.000Z'[:-1] + '+00:00')\n",
    "#datetime.datetime(2020, 1, 6, 0, 0, tzinfo=datetime.timezone.utc)\n",
    "\n",
    "first = splatoon[\"startTime\"].values[0]\n",
    "\n",
    "values = []\n",
    "for i in splatoon[\"startTime\"].values:\n",
    "    d = datetime.fromisoformat(i[:-1]) #.astimezone(timezone.utc)\n",
    "    \n",
    "    utc = pytz.utc.localize(d)\n",
    "    pst = utc.astimezone(pytz.timezone(\"America/Los_Angeles\"))\n",
    "    values.append(pst.strftime(\"%H:%M\"))\n",
    "\n",
    "values"
   ]
  },
  {
   "cell_type": "code",
   "execution_count": 48,
   "id": "65f460f5",
   "metadata": {},
   "outputs": [],
   "source": [
    "splatoon[\"time\"] = values\n",
    "splatoon = splatoon[[\"time\", \"mode\", \"map1\", \"map2\"]]"
   ]
  },
  {
   "cell_type": "code",
   "execution_count": 49,
   "id": "4df403bd",
   "metadata": {},
   "outputs": [],
   "source": [
    "splatoon.to_csv(\"rotations.csv\") #save"
   ]
  },
  {
   "cell_type": "markdown",
   "id": "efbfc7c8",
   "metadata": {},
   "source": [
    "### All Map Modes:"
   ]
  },
  {
   "cell_type": "code",
   "execution_count": 50,
   "id": "3552cd0d",
   "metadata": {},
   "outputs": [
    {
     "data": {
      "text/html": [
       "<div>\n",
       "<style scoped>\n",
       "    .dataframe tbody tr th:only-of-type {\n",
       "        vertical-align: middle;\n",
       "    }\n",
       "\n",
       "    .dataframe tbody tr th {\n",
       "        vertical-align: top;\n",
       "    }\n",
       "\n",
       "    .dataframe thead th {\n",
       "        text-align: right;\n",
       "    }\n",
       "</style>\n",
       "<table border=\"1\" class=\"dataframe\">\n",
       "  <thead>\n",
       "    <tr style=\"text-align: right;\">\n",
       "      <th></th>\n",
       "      <th>time</th>\n",
       "      <th>mode</th>\n",
       "      <th>map1</th>\n",
       "      <th>map2</th>\n",
       "    </tr>\n",
       "  </thead>\n",
       "  <tbody>\n",
       "    <tr>\n",
       "      <th>0</th>\n",
       "      <td>13:00</td>\n",
       "      <td>Rainmaker</td>\n",
       "      <td>Mahi-Mahi Resort</td>\n",
       "      <td>Wahoo World</td>\n",
       "    </tr>\n",
       "    <tr>\n",
       "      <th>1</th>\n",
       "      <td>15:00</td>\n",
       "      <td>Splat Zones</td>\n",
       "      <td>Hammerhead Bridge</td>\n",
       "      <td>MakoMart</td>\n",
       "    </tr>\n",
       "    <tr>\n",
       "      <th>2</th>\n",
       "      <td>17:00</td>\n",
       "      <td>Rainmaker</td>\n",
       "      <td>Barnacle &amp; Dime</td>\n",
       "      <td>Museum d'Alfonsino</td>\n",
       "    </tr>\n",
       "    <tr>\n",
       "      <th>3</th>\n",
       "      <td>19:00</td>\n",
       "      <td>Tower Control</td>\n",
       "      <td>Mincemeat Metalworks</td>\n",
       "      <td>Flounder Heights</td>\n",
       "    </tr>\n",
       "    <tr>\n",
       "      <th>4</th>\n",
       "      <td>21:00</td>\n",
       "      <td>Splat Zones</td>\n",
       "      <td>Undertow Spillway</td>\n",
       "      <td>Um'ami Ruins</td>\n",
       "    </tr>\n",
       "    <tr>\n",
       "      <th>5</th>\n",
       "      <td>23:00</td>\n",
       "      <td>Clam Blitz</td>\n",
       "      <td>Hagglefish Market</td>\n",
       "      <td>Brinewater Springs</td>\n",
       "    </tr>\n",
       "    <tr>\n",
       "      <th>6</th>\n",
       "      <td>01:00</td>\n",
       "      <td>Rainmaker</td>\n",
       "      <td>Eeltail Alley</td>\n",
       "      <td>Shipshape Cargo Co.</td>\n",
       "    </tr>\n",
       "    <tr>\n",
       "      <th>7</th>\n",
       "      <td>03:00</td>\n",
       "      <td>Tower Control</td>\n",
       "      <td>Manta Maria</td>\n",
       "      <td>Crableg Capital</td>\n",
       "    </tr>\n",
       "    <tr>\n",
       "      <th>8</th>\n",
       "      <td>05:00</td>\n",
       "      <td>Splat Zones</td>\n",
       "      <td>Undertow Spillway</td>\n",
       "      <td>Sturgeon Shipyard</td>\n",
       "    </tr>\n",
       "    <tr>\n",
       "      <th>9</th>\n",
       "      <td>07:00</td>\n",
       "      <td>Clam Blitz</td>\n",
       "      <td>Mincemeat Metalworks</td>\n",
       "      <td>Humpback Pump Track</td>\n",
       "    </tr>\n",
       "    <tr>\n",
       "      <th>10</th>\n",
       "      <td>09:00</td>\n",
       "      <td>Rainmaker</td>\n",
       "      <td>Inkblot Art Academy</td>\n",
       "      <td>Wahoo World</td>\n",
       "    </tr>\n",
       "    <tr>\n",
       "      <th>11</th>\n",
       "      <td>11:00</td>\n",
       "      <td>Tower Control</td>\n",
       "      <td>Flounder Heights</td>\n",
       "      <td>MakoMart</td>\n",
       "    </tr>\n",
       "  </tbody>\n",
       "</table>\n",
       "</div>"
      ],
      "text/plain": [
       "     time           mode                  map1                 map2\n",
       "0   13:00      Rainmaker      Mahi-Mahi Resort          Wahoo World\n",
       "1   15:00    Splat Zones     Hammerhead Bridge             MakoMart\n",
       "2   17:00      Rainmaker       Barnacle & Dime   Museum d'Alfonsino\n",
       "3   19:00  Tower Control  Mincemeat Metalworks     Flounder Heights\n",
       "4   21:00    Splat Zones     Undertow Spillway         Um'ami Ruins\n",
       "5   23:00     Clam Blitz     Hagglefish Market   Brinewater Springs\n",
       "6   01:00      Rainmaker         Eeltail Alley  Shipshape Cargo Co.\n",
       "7   03:00  Tower Control           Manta Maria      Crableg Capital\n",
       "8   05:00    Splat Zones     Undertow Spillway    Sturgeon Shipyard\n",
       "9   07:00     Clam Blitz  Mincemeat Metalworks  Humpback Pump Track\n",
       "10  09:00      Rainmaker   Inkblot Art Academy          Wahoo World\n",
       "11  11:00  Tower Control      Flounder Heights             MakoMart"
      ]
     },
     "execution_count": 50,
     "metadata": {},
     "output_type": "execute_result"
    }
   ],
   "source": [
    "splatoon"
   ]
  },
  {
   "cell_type": "markdown",
   "id": "0692465f",
   "metadata": {},
   "source": [
    "### Now, pick 1-2 maps you want to know the schedule of for each mode (i.e. map preferences)"
   ]
  },
  {
   "cell_type": "code",
   "execution_count": 51,
   "id": "9879e552",
   "metadata": {},
   "outputs": [],
   "source": [
    "zones = splatoon[splatoon[\"mode\"]==\"Splat Zones\"]\n",
    "maps_zones_1 = zones[(zones[\"map1\"]==\"Shipshape Cargo Co.\") | (zones[\"map2\"]==\"Hagglefish Mrket\")]\n",
    "maps_zones_2 = zones[(zones[\"map2\"]==\"Shipshape Cargo Co.\") | (zones[\"map1\"]==\"Hagglefish Mrket\")]\n",
    "\n",
    "tower = splatoon[splatoon[\"mode\"]==\"Tower Control\"]\n",
    "maps_tower_1 = tower[(tower[\"map1\"]==\"Sturgeon Shipyard\") | (tower[\"map2\"]==\"Inkblot Art Academy\")]\n",
    "maps_tower_2 = tower[(tower[\"map2\"]==\"Sturgeon Shipyard\") | (tower[\"map1\"]==\"Inkblot Art Academy\")]\n",
    "\n",
    "rain = splatoon[splatoon[\"mode\"]==\"Rainmaker\"]\n",
    "maps_rain_1 = rain[(rain[\"map1\"]==\"Eeltail Alley\") | (rain[\"map2\"]==\"Humpback Pump Track\")]\n",
    "maps_rain_2 = rain[(rain[\"map2\"]==\"Eeltail Alley\") | (rain[\"map1\"]==\"Humpback Pump Track\")]\n",
    "\n",
    "clams = splatoon[splatoon[\"mode\"]==\"Clam Blitz\"]\n",
    "maps_clams_1 = clams[(clams[\"map1\"]==\"Scorch Gorge\") | (clams[\"map2\"]==\"Scorch Gorge\")]\n",
    "maps_clams_2 = None\n",
    "#clams[(clams[\"map2\"]==\"Museum d'Alfonsino\") | (clams[\"map1\"]==\"Scorch Gorge\")]\n",
    "\n",
    "\n",
    "all_modes = pd.concat([maps_zones_1, maps_zones_2, maps_tower_1, maps_tower_2, maps_rain_1, maps_rain_2, \n",
    "                       maps_clams_1, maps_clams_2], join=\"inner\")\n",
    "\n",
    "#all_modes = pd.concat([maps_zones_1, maps_zones_2, maps_tower_1, maps_tower_2, maps_rain_1, maps_rain_2, \n",
    "#                       maps_clams_1, maps_clams_2], join=\"inner\")"
   ]
  },
  {
   "cell_type": "markdown",
   "id": "25b70bdb",
   "metadata": {},
   "source": [
    "## Result Table:"
   ]
  },
  {
   "cell_type": "code",
   "execution_count": 52,
   "id": "47d72436",
   "metadata": {},
   "outputs": [
    {
     "data": {
      "text/html": [
       "<div>\n",
       "<style scoped>\n",
       "    .dataframe tbody tr th:only-of-type {\n",
       "        vertical-align: middle;\n",
       "    }\n",
       "\n",
       "    .dataframe tbody tr th {\n",
       "        vertical-align: top;\n",
       "    }\n",
       "\n",
       "    .dataframe thead th {\n",
       "        text-align: right;\n",
       "    }\n",
       "</style>\n",
       "<table border=\"1\" class=\"dataframe\">\n",
       "  <thead>\n",
       "    <tr style=\"text-align: right;\">\n",
       "      <th></th>\n",
       "      <th>time</th>\n",
       "      <th>mode</th>\n",
       "      <th>map1</th>\n",
       "      <th>map2</th>\n",
       "    </tr>\n",
       "  </thead>\n",
       "  <tbody>\n",
       "    <tr>\n",
       "      <th>0</th>\n",
       "      <td>01:00</td>\n",
       "      <td>Rainmaker</td>\n",
       "      <td>Eeltail Alley</td>\n",
       "      <td>Shipshape Cargo Co.</td>\n",
       "    </tr>\n",
       "  </tbody>\n",
       "</table>\n",
       "</div>"
      ],
      "text/plain": [
       "    time       mode           map1                 map2\n",
       "0  01:00  Rainmaker  Eeltail Alley  Shipshape Cargo Co."
      ]
     },
     "execution_count": 52,
     "metadata": {},
     "output_type": "execute_result"
    }
   ],
   "source": [
    "all_modes.sort_values(by=[\"time\"]).reset_index().drop(columns=[\"index\"])"
   ]
  },
  {
   "cell_type": "markdown",
   "id": "d86ed026",
   "metadata": {},
   "source": [
    "### **Finding:** There are usually 1-4 rotations that match one's map preferences for all modes."
   ]
  },
  {
   "cell_type": "code",
   "execution_count": null,
   "id": "5ec98697",
   "metadata": {},
   "outputs": [],
   "source": []
  }
 ],
 "metadata": {
  "kernelspec": {
   "display_name": "Python 3 (ipykernel)",
   "language": "python",
   "name": "python3"
  },
  "language_info": {
   "codemirror_mode": {
    "name": "ipython",
    "version": 3
   },
   "file_extension": ".py",
   "mimetype": "text/x-python",
   "name": "python",
   "nbconvert_exporter": "python",
   "pygments_lexer": "ipython3",
   "version": "3.10.9"
  }
 },
 "nbformat": 4,
 "nbformat_minor": 5
}
